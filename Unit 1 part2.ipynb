{
 "cells": [
  {
   "cell_type": "code",
   "execution_count": 22,
   "id": "31125b2d-43a6-413c-9571-1094acd37a1f",
   "metadata": {},
   "outputs": [
    {
     "name": "stdout",
     "output_type": "stream",
     "text": [
      "value is 6 its binary is 110 not is b111 \n"
     ]
    }
   ],
   "source": [
    "a = 6\n",
    "bina= bin(a)\n",
    "binnota=bin(~a)\n",
    "print(f\"value is { a } its binary is { bina[2:] } not is { binnota[2:]} \")"
   ]
  },
  {
   "cell_type": "code",
   "execution_count": 23,
   "id": "b9968158-f3aa-4045-9c67-a46eecd27cc8",
   "metadata": {},
   "outputs": [],
   "source": []
  },
  {
   "cell_type": "markdown",
   "id": "9ce7b39c-fc62-4949-976b-7321aeaa1bfd",
   "metadata": {},
   "source": [
    "# why is it not what it should be\n",
    "\n",
    "Here's a breakdown of what happens:\n",
    "\n",
    "- When `a = 6`, the binary representation of `6` is `0000...0110` (in a 32-bit system, for example).\n",
    "- The bitwise NOT of `6` would flip all bits: `1111...1001`, which represents `-7` in two's complement form (Python uses two's complement for negative integers).\n",
    "\n",
    "To correctly interpret the bitwise NOT operation, you need to adjust the result to show only the bits relevant to your original integer's size.\n",
    "\n",
    "Here's how you can modify your code to get the correct binary representation:\n",
    "\n",
    "```python\n",
    "a = 6\n",
    "bina = bin(a)\n",
    "binnota = bin(~a & 0b11111111)  # Mask to show only 8 bits (you can change the number of bits)\n",
    "print(f\"value is {a} its binary is {bina[2:]} not is {binnota[2:]}\")\n",
    "```\n",
    "\n",
    "In this example, `0b11111111` is an 8-bit mask that ensures the `~a` result is limited to 8 bits, making it easier to see the bitwise NOT operation.\n",
    "\n",
    "### Output:\n",
    "```\n",
    "value is 6 its binary is 110 not is 11111001\n",
    "```\n",
    "\n",
    "This output shows the correct 8-bit binary representation after the bitwise NOT operation."
   ]
  },
  {
   "cell_type": "code",
   "execution_count": 28,
   "id": "156a2ffa-32e9-447a-84ee-6b880338efdb",
   "metadata": {},
   "outputs": [
    {
     "name": "stdout",
     "output_type": "stream",
     "text": [
      "value is 6 its binary is 110 not is 1001\n"
     ]
    }
   ],
   "source": [
    "a = 6\n",
    "bina = bin(a)\n",
    "binnota = bin(~a & 0b1111)  # Mask to show only 8 bits (you can change the number of bits)\n",
    "print(f\"value is {a} its binary is {bina[2:]} not is {binnota[2:]}\")"
   ]
  },
  {
   "cell_type": "code",
   "execution_count": 24,
   "id": "986d95f2-aa55-478a-9db2-792dcf1e2c24",
   "metadata": {},
   "outputs": [
    {
     "name": "stdout",
     "output_type": "stream",
     "text": [
      "-0b111\n"
     ]
    }
   ],
   "source": [
    "~a\n",
    "\n",
    "print(binnota)"
   ]
  },
  {
   "cell_type": "code",
   "execution_count": 7,
   "id": "4d5a6ac6-af77-4074-a691-a5b64a012186",
   "metadata": {},
   "outputs": [
    {
     "data": {
      "text/plain": [
       "(7, 7)"
      ]
     },
     "execution_count": 7,
     "metadata": {},
     "output_type": "execute_result"
    }
   ],
   "source": [
    "a=6 # 1 1 0\n",
    "b=1 # 0 0 1\n",
    "c= a | b # 1 1 1\n",
    "d = a ^ b # xor\n",
    "c,d"
   ]
  },
  {
   "cell_type": "code",
   "execution_count": null,
   "id": "5dde3fca-5e7c-4bb0-afee-7a80f831c572",
   "metadata": {},
   "outputs": [],
   "source": [
    "# a b c= xor(a,b)\n",
    "0 0  0\n",
    "0 1  1\n",
    "1 0  1\n",
    "1 1  0"
   ]
  },
  {
   "cell_type": "markdown",
   "id": "2954fb13-e2f1-492a-8d79-230f11cdce31",
   "metadata": {},
   "source": [
    "#dec # bin\n",
    "\n",
    "1 1 \n",
    "2 10 \n",
    "4 100 \n",
    "8 1000 \n",
    "16 10000 \n",
    "32 100000 \n",
    "64 1000000\n",
    "128 10000000\n",
    "\n",
    "a = 128\n",
    "lshifta = a >> 2 # right shift\n",
    "lshifta"
   ]
  },
  {
   "cell_type": "code",
   "execution_count": 6,
   "id": "1ff76033-046d-4458-b254-f3753f1ec30c",
   "metadata": {},
   "outputs": [
    {
     "name": "stdin",
     "output_type": "stream",
     "text": [
      "enter a number 6\n"
     ]
    },
    {
     "name": "stdout",
     "output_type": "stream",
     "text": [
      "<class 'int'>\n",
      "1\n",
      "6 x 1 = 6\n",
      "2\n",
      "6 x 2 = 12\n",
      "3\n",
      "6 x 3 = 18\n",
      "4\n",
      "6 x 4 = 24\n",
      "5\n",
      "6 x 5 = 30\n",
      "6\n",
      "6\n",
      "6\n",
      "6\n",
      "6\n",
      "6\n",
      "6\n",
      "6\n",
      "6\n",
      "6\n",
      "6\n",
      "6\n",
      "6\n",
      "6\n",
      "6\n",
      "6\n",
      "6\n",
      "6\n",
      "6\n",
      "6\n",
      "6\n",
      "6\n",
      "6\n",
      "6\n",
      "6\n",
      "6\n",
      "6\n",
      "6\n",
      "6\n",
      "6\n",
      "6\n",
      "6\n",
      "6\n",
      "6\n",
      "6\n",
      "6\n",
      "6\n",
      "6\n",
      "6\n",
      "6\n",
      "6\n",
      "6\n",
      "6\n",
      "6\n",
      "6\n",
      "loop executed more than 50 times, breaking loop...\n"
     ]
    }
   ],
   "source": [
    "# while loop\n",
    "a=1\n",
    "b = int(input(\"enter a number\"))\n",
    "\n",
    "# b=int(b)\n",
    "print(type(b))\n",
    "\n",
    "loopcount = 0\n",
    "loopThreshold = 50\n",
    "while a <= 100:\n",
    "    loopcount+=1\n",
    "    if loopcount > loopThreshold:\n",
    "        print(f\"loop executed more than {loopThreshold} times, breaking loop...\")\n",
    "        break\n",
    "    # print(f\"{ b } x { a } = { a*b }\")\n",
    "    # a=a+1\n",
    "    print(a)\n",
    "\n",
    "    if a > 5:\n",
    "        continue # terminates loop or end loop\n",
    "\n",
    "    print(f\"{ b } x { a } = { a*b }\")\n",
    "\n",
    "    a=a+1\n",
    "\n",
    "    if a > 20: # fail safe\n",
    "        break"
   ]
  },
  {
   "cell_type": "code",
   "execution_count": null,
   "id": "99851b6f-a8f9-46f6-9997-fad47f9e4f5c",
   "metadata": {},
   "outputs": [],
   "source": []
  },
  {
   "cell_type": "code",
   "execution_count": null,
   "id": "85217892-acb9-4cc9-8fe3-2c843915745f",
   "metadata": {},
   "outputs": [],
   "source": []
  }
 ],
 "metadata": {
  "kernelspec": {
   "display_name": "Python 3 (ipykernel)",
   "language": "python",
   "name": "python3"
  },
  "language_info": {
   "codemirror_mode": {
    "name": "ipython",
    "version": 3
   },
   "file_extension": ".py",
   "mimetype": "text/x-python",
   "name": "python",
   "nbconvert_exporter": "python",
   "pygments_lexer": "ipython3",
   "version": "3.11.8"
  }
 },
 "nbformat": 4,
 "nbformat_minor": 5
}
