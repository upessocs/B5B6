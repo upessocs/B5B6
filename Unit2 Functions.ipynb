{
 "cells": [
  {
   "cell_type": "code",
   "execution_count": null,
   "id": "cebd780b-9898-48bb-9ea9-a09b4d3e79e0",
   "metadata": {},
   "outputs": [],
   "source": [
    "def add(a, b):\n",
    "\n",
    "    \"\"\"Returns the sum of two numbers.\"\"\"\n",
    "    return a + bCalling the function with arguments\n",
    "\n",
    "\n"
   ]
  },
  {
   "cell_type": "markdown",
   "id": "fe539a00-0806-46d2-9f76-566f6d02a9e6",
   "metadata": {},
   "source": [
    "# asdf\n",
    " $ e=mc^2$\n",
    "\n",
    " ![label](./img.jpg)"
   ]
  },
  {
   "cell_type": "code",
   "execution_count": null,
   "id": "ac3fac63-267f-4903-a836-e4b82eaa1609",
   "metadata": {},
   "outputs": [],
   "source": []
  }
 ],
 "metadata": {
  "kernelspec": {
   "display_name": "Python 3 (ipykernel)",
   "language": "python",
   "name": "python3"
  },
  "language_info": {
   "codemirror_mode": {
    "name": "ipython",
    "version": 3
   },
   "file_extension": ".py",
   "mimetype": "text/x-python",
   "name": "python",
   "nbconvert_exporter": "python",
   "pygments_lexer": "ipython3",
   "version": "3.11.8"
  }
 },
 "nbformat": 4,
 "nbformat_minor": 5
}
