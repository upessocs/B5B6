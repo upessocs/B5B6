{
 "cells": [
  {
   "cell_type": "markdown",
   "id": "ea99f1d6-2bbd-4883-877e-dd93cdbdadd9",
   "metadata": {},
   "source": [
    "# "
   ]
  },
  {
   "cell_type": "code",
   "execution_count": 12,
   "id": "48a7969f-1f90-4ac9-aee8-9faec13a8068",
   "metadata": {},
   "outputs": [],
   "source": [
    "%%capture\n",
    "\n",
    "!pip install numpy"
   ]
  },
  {
   "cell_type": "code",
   "execution_count": 13,
   "id": "a33bae05-e38d-4e52-9a04-0d9afbfaaabf",
   "metadata": {},
   "outputs": [],
   "source": [
    "import numpy as np\n",
    "\n"
   ]
  },
  {
   "cell_type": "code",
   "execution_count": 14,
   "id": "9ac6934c-4bea-441e-9955-4febfb4439f7",
   "metadata": {},
   "outputs": [
    {
     "name": "stdout",
     "output_type": "stream",
     "text": [
      "[1. 2. 3. 4.]\n"
     ]
    }
   ],
   "source": [
    "list1 = [1,2,3,4]\n",
    "\n",
    "\n",
    "arr1 =  np.array(list1, dtype=np.float64)\n",
    "print(arr1)"
   ]
  },
  {
   "cell_type": "code",
   "execution_count": 15,
   "id": "022e1592-b4a2-4385-9680-ed98673979a2",
   "metadata": {},
   "outputs": [
    {
     "data": {
      "text/plain": [
       "dtype('float64')"
      ]
     },
     "execution_count": 15,
     "metadata": {},
     "output_type": "execute_result"
    }
   ],
   "source": [
    "arr1.dtype"
   ]
  },
  {
   "cell_type": "code",
   "execution_count": 16,
   "id": "48dc43ca-2216-437f-b3f2-9d555037b611",
   "metadata": {},
   "outputs": [
    {
     "data": {
      "text/plain": [
       "array([[1, 2],\n",
       "       [3, 4]])"
      ]
     },
     "execution_count": 16,
     "metadata": {},
     "output_type": "execute_result"
    }
   ],
   "source": [
    "A = np.array([[1, 2], [3, 4]])\n",
    "A"
   ]
  },
  {
   "cell_type": "code",
   "execution_count": 17,
   "id": "05e68f77-b276-49da-add9-f584c2760490",
   "metadata": {},
   "outputs": [
    {
     "name": "stdout",
     "output_type": "stream",
     "text": [
      "Element-wise Multiplication:\n",
      " [[ 5 12]\n",
      " [21 32]]\n"
     ]
    },
    {
     "data": {
      "text/plain": [
       "array([[19, 22],\n",
       "       [43, 50]])"
      ]
     },
     "execution_count": 17,
     "metadata": {},
     "output_type": "execute_result"
    }
   ],
   "source": [
    "A = np.array([[1, 2], [3, 4]])\n",
    "B = np.array([[5, 6], [7, 8]])\n",
    "\n",
    "# Element-wise multiplication\n",
    "\n",
    "print(\"Element-wise Multiplication:\\n\", A * B)\n",
    "\n",
    "# Matrix multiplication (dot product)\n",
    "# np.dot(A,B)\n",
    "A@B# alternative to np.dot(A,B)\n",
    "\n",
    "\n",
    "\n"
   ]
  },
  {
   "cell_type": "code",
   "execution_count": 18,
   "id": "eb5405a3-224c-4afe-950e-239984ec8107",
   "metadata": {},
   "outputs": [
    {
     "name": "stdout",
     "output_type": "stream",
     "text": [
      "[[1 2]\n",
      " [3 4]]\n",
      "[[1 3]\n",
      " [2 4]]\n"
     ]
    }
   ],
   "source": [
    "print(A)\n",
    "print(A.T)"
   ]
  },
  {
   "cell_type": "code",
   "execution_count": 19,
   "id": "8a53015d-fe98-4dac-8d0a-c738a4515d27",
   "metadata": {},
   "outputs": [
    {
     "name": "stdout",
     "output_type": "stream",
     "text": [
      "Inverse:\n",
      " [[-2.   1. ]\n",
      " [ 1.5 -0.5]]\n"
     ]
    }
   ],
   "source": [
    "from numpy.linalg import inv\n",
    "\n",
    "A = np.array([[1, 2], [3, 4]])\n",
    "print(\"Inverse:\\n\", inv(A))"
   ]
  },
  {
   "cell_type": "markdown",
   "id": "0b5c9fad-c719-471e-be8f-b136eb48791f",
   "metadata": {},
   "source": [
    "$y =  2\\pi \\omega x $\n"
   ]
  },
  {
   "cell_type": "code",
   "execution_count": 20,
   "id": "389a3e90-f8da-4c30-abc2-2c56160d81fb",
   "metadata": {},
   "outputs": [
    {
     "data": {
      "text/plain": [
       "(2, 2)"
      ]
     },
     "execution_count": 20,
     "metadata": {},
     "output_type": "execute_result"
    }
   ],
   "source": [
    "A.shape"
   ]
  },
  {
   "cell_type": "code",
   "execution_count": 21,
   "id": "ebae5922-2cb1-441c-88e0-9b7db268a388",
   "metadata": {},
   "outputs": [
    {
     "data": {
      "text/plain": [
       "4"
      ]
     },
     "execution_count": 21,
     "metadata": {},
     "output_type": "execute_result"
    }
   ],
   "source": [
    "A.size"
   ]
  },
  {
   "cell_type": "code",
   "execution_count": 22,
   "id": "8c165eb9-792c-4d42-b9d0-11a4dc184b74",
   "metadata": {},
   "outputs": [
    {
     "data": {
      "text/plain": [
       "2"
      ]
     },
     "execution_count": 22,
     "metadata": {},
     "output_type": "execute_result"
    }
   ],
   "source": [
    "A.ndim"
   ]
  },
  {
   "cell_type": "code",
   "execution_count": 41,
   "id": "57fcc390-b72b-4324-a986-65e3006ad027",
   "metadata": {},
   "outputs": [],
   "source": [
    "start = 1\n",
    "end = 1*60*60  # 3600\n",
    "noOfPoints = 3600\n",
    "\n",
    "X = np.linspace(start,end,noOfPoints) # x axis or time\n",
    "# len(X)\n",
    "# X\n",
    "\n",
    "pi = 22/7\n",
    "omega = 10\n",
    "\n",
    "Y = 2 * pi * omega * X"
   ]
  },
  {
   "cell_type": "code",
   "execution_count": 42,
   "id": "f92416ad-d3e8-481a-8f5e-8489d7c22fa6",
   "metadata": {},
   "outputs": [],
   "source": [
    "Y2  = np.sin(Y)"
   ]
  },
  {
   "cell_type": "markdown",
   "id": "e6a40045-352f-4f2f-8433-e205dfdf941c",
   "metadata": {},
   "source": [
    "$$ Y2 = \\sin (2\\pi\\omega X) $$"
   ]
  },
  {
   "cell_type": "code",
   "execution_count": 48,
   "id": "83622477-bd2c-41e3-8402-4d83b48cee2d",
   "metadata": {},
   "outputs": [],
   "source": [
    "# !pip install matplotlib # to install matplotlib\n",
    "import matplotlib as mpl\n",
    "\n",
    "from matplotlib import pyplot as plt\n",
    "\n",
    "# or\n",
    "# import matplotlib.pyplot as plt"
   ]
  },
  {
   "cell_type": "code",
   "execution_count": 58,
   "id": "b4d43c83-b21a-431d-a310-58ac02a001b7",
   "metadata": {},
   "outputs": [
    {
     "name": "stdin",
     "output_type": "stream",
     "text": [
      "enter frequency 4\n"
     ]
    },
    {
     "data": {
      "image/png": "[encoded data removed]",
      "text/plain": [
       "<Figure size 640x480 with 1 Axes>"
      ]
     },
     "metadata": {},
     "output_type": "display_data"
    }
   ],
   "source": [
    "import numpy as np\n",
    "from matplotlib import pyplot as plt\n",
    "\n",
    "start = 1\n",
    "end = 1*60*60  # 3600\n",
    "noOfPoints = 3600\n",
    "\n",
    "X = np.linspace(start,end,noOfPoints) # x axis or time\n",
    "pi = 22/7\n",
    "omega = int(input(\"enter frequency\"))\n",
    "\n",
    "Y = np.sin(2 * pi * omega * X)\n",
    "plt.plot(X,Y)\n",
    "plt.xlabel(\"time ($s$)\")\n",
    "plt.ylabel(\"Amplitude\")\n",
    "plt.grid()\n",
    "# plt.show()\n",
    "plt.savefig(\"test.png\")"
   ]
  },
  {
   "cell_type": "code",
   "execution_count": 54,
   "id": "9446d1c6-0857-410f-96b0-3afbeaaf98c5",
   "metadata": {},
   "outputs": [
    {
     "data": {
      "text/plain": [
       "<Figure size 640x480 with 0 Axes>"
      ]
     },
     "metadata": {},
     "output_type": "display_data"
    }
   ],
   "source": [
    "plt.savefig(\"test.png\")"
   ]
  },
  {
   "cell_type": "code",
   "execution_count": null,
   "id": "1d008255-3d5f-462f-ab12-1997a36d7db5",
   "metadata": {},
   "outputs": [],
   "source": []
  }
 ],
 "metadata": {
  "kernelspec": {
   "display_name": "Python 3 (ipykernel)",
   "language": "python",
   "name": "python3"
  },
  "language_info": {
   "codemirror_mode": {
    "name": "ipython",
    "version": 3
   },
   "file_extension": ".py",
   "mimetype": "text/x-python",
   "name": "python",
   "nbconvert_exporter": "python",
   "pygments_lexer": "ipython3",
   "version": "3.11.8"
  }
 },
 "nbformat": 4,
 "nbformat_minor": 5
}
