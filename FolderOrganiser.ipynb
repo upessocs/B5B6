{
 "cells": [
  {
   "cell_type": "code",
   "execution_count": 5,
   "id": "27f69d5f-d3be-47f3-893b-3285ad27c1bb",
   "metadata": {},
   "outputs": [],
   "source": [
    "## Write a function that takes dir address from user and organize files on that folder in to following categories as given below\n",
    "\n",
    "# http://10.3.10.26:8000/\n",
    "\n",
    "# ```python\n",
    "# import os\n",
    "\n",
    "\n",
    "# # to create directory\n",
    "# dirName = \"Images\"\n",
    "# make_dir_cmd = f\"md {dirName}\"\n",
    "# os.system(make_dir_cmd)\n",
    "\n",
    "# os.mkdir(\"dirName\")\n",
    "\n",
    "# # to move file\n",
    "\n",
    "# relative_source_file_path = \".\\demo.txt\"\n",
    "# dirName = \"Images\"\n",
    "# relative_destination_file_path = f\".\\{dirName}\\demo.txt\"\n",
    "# cmd_to_move_file = f\"move {relative_source_file_path} {relative_destination_file_path}\"\n",
    "\n",
    "# ```"
   ]
  },
  {
   "cell_type": "markdown",
   "id": "b184df8b-384d-43cd-8f0a-83f2c2237915",
   "metadata": {},
   "source": []
  },
  {
   "cell_type": "markdown",
   "id": "f5a49376-6a5e-437e-9790-ea86e33f178e",
   "metadata": {},
   "source": [
    "## Write a function that takes dir address from user and organize files on that folder in to following categories as given below\n",
    "\n",
    "| Folder | Extesion|\n",
    "|---|---|\n",
    "|Videos| mpg,mkv|\n",
    "|Images|jpg,png|\n",
    "|Audio| mp3,oog|\n",
    "|Docs|docx,txt,pdf|\n",
    "|Mics| others|\n",
    "\n",
    "```python\n",
    "import os\n",
    "\n",
    "\n",
    "# to create directory\n",
    "dirName = \"Images\"\n",
    "make_dir_cmd = f\"md {dirName}\"\n",
    "os.system(make_dir_cmd)\n",
    "\n",
    "os.mkdir(\"dirName\")\n",
    "\n",
    "# to move file\n",
    "\n",
    "relative_source_file_path = \".\\demo.txt\"\n",
    "dirName = \"Images\"\n",
    "relative_destination_file_path = f\".\\{dirName}\\demo.txt\"\n",
    "cmd_to_move_file = f\"move {relative_source_file_path} {relative_destination_file_path}\"\n",
    "\n",
    "```\n"
   ]
  },
  {
   "cell_type": "code",
   "execution_count": 7,
   "id": "9e1a26a0-e895-4b8c-89ff-aae2824b5005",
   "metadata": {},
   "outputs": [
    {
     "data": {
      "text/plain": [
       "['a1.mp3',\n",
       " 'a2.oog',\n",
       " 'd1.docx',\n",
       " 'd2.png',\n",
       " 'd3.pdf',\n",
       " 'd4.txt',\n",
       " 'image.png',\n",
       " 'image1.jpg',\n",
       " 'image2.jpg',\n",
       " 'image2.png',\n",
       " 'misc1',\n",
       " 'misc2',\n",
       " 'misc3',\n",
       " 'v1.mp4',\n",
       " 'v2.mkv']"
      ]
     },
     "execution_count": 7,
     "metadata": {},
     "output_type": "execute_result"
    }
   ],
   "source": [
    "import os\n",
    "\n",
    "## get dir address \n",
    "address = \"C:\\GITHUB\\PythonProgrammingUPES\\B5B6\\Organizer\\Organizer\\Organizer\"\n",
    "address = \"\\mnt/c\\GITHUB\\PythonProgrammingUPES\\B5B6\\Organizer\\Organizer\\Organizer\".replace(\"\\\\\",\"/\")\n",
    "\n",
    "# def organiseDir(address):\n",
    "    ## change working dir\n",
    "\n",
    "os.chdir(address)\n",
    "\n",
    "## list of files\n",
    "list_of_files = os.listdir()                                                                                           \n",
    "\n",
    "\n",
    "\n",
    "    \n",
    " \n",
    "    \n",
    "# organiseDir(address)\n",
    "list_of_files"
   ]
  },
  {
   "cell_type": "code",
   "execution_count": 8,
   "id": "843acb80-ef38-4cee-be3e-8d29ebd3235a",
   "metadata": {},
   "outputs": [
    {
     "name": "stdout",
     "output_type": "stream",
     "text": [
      "['Video', 'Audio', 'Images', 'Docs', 'Misc']\n"
     ]
    }
   ],
   "source": [
    "## create Directory structure\n",
    "folders_to_be_created = \"Video,Audio,Images,Docs,Misc\".split(\",\")\n",
    "print(folders_to_be_created)\n",
    "\n",
    "for d in folders_to_be_created:\n",
    "    os.mkdir(d)\n",
    "    \n",
    "# folderDictionary = {\n",
    "#     \"Images\":[\"jpg\",\"png\"],\n",
    "#     \"Vidoes\":[\"mp4\",\"mkv\"]\n",
    "# }"
   ]
  },
  {
   "cell_type": "code",
   "execution_count": 13,
   "id": "ec7819c4-8acc-442c-92cb-b5df90c43599",
   "metadata": {},
   "outputs": [
    {
     "name": "stdout",
     "output_type": "stream",
     "text": [
      "Testing a1.mp3\n",
      "mp3\n",
      "Testing a2.oog\n",
      "oog\n",
      "Testing d1.docx\n",
      "docx\n",
      "Testing d2.png\n",
      "png\n",
      "Testing d3.pdf\n",
      "pdf\n",
      "Testing d4.txt\n",
      "txt\n",
      "Testing image.png\n",
      "png\n",
      "Testing image1.jpg\n",
      "jpg\n",
      "Testing image2.jpg\n",
      "jpg\n",
      "Testing image2.png\n",
      "png\n",
      "Testing misc1\n",
      "misc1\n",
      "Testing misc2\n",
      "misc2\n",
      "Testing misc3\n",
      "misc3\n",
      "Testing v1.mp4\n",
      "mp4\n",
      "Testing v2.mkv\n",
      "mkv\n"
     ]
    }
   ],
   "source": [
    "## move each file based on extension to corresponding folder\n",
    "for f in list_of_files:\n",
    "    print(f\"Testing {f}\")\n",
    "    ext  = f.split(\".\")[-1]\n",
    "    print(ext)\n",
    "    \n",
    "    if ext == \"jpg\" or ext == \"png\": \n",
    "        folderName = \"Images\"\n",
    "        # move to Image folder\n",
    "        # os.system(f\"move ./{f} ./{folderName}/{f}\")\n",
    "        os.system(f\"mv ./{f} ./{folderName}/{f}\")\n",
    "    elif ext == \"mp4\" or ext == \"mkv\": \n",
    "        folderName = \"Video\"\n",
    "        # move to Image folder\n",
    "        # os.system(f\"move ./{f} ./{folderName}/{f}\")\n",
    "        os.system(f\"mv ./{f} ./{folderName}/{f}\")"
   ]
  },
  {
   "cell_type": "code",
   "execution_count": null,
   "id": "a8f58939-49e4-49a6-8839-197bb0302da4",
   "metadata": {},
   "outputs": [],
   "source": []
  }
 ],
 "metadata": {
  "kernelspec": {
   "display_name": "Python 3 (ipykernel)",
   "language": "python",
   "name": "python3"
  },
  "language_info": {
   "codemirror_mode": {
    "name": "ipython",
    "version": 3
   },
   "file_extension": ".py",
   "mimetype": "text/x-python",
   "name": "python",
   "nbconvert_exporter": "python",
   "pygments_lexer": "ipython3",
   "version": "3.11.8"
  }
 },
 "nbformat": 4,
 "nbformat_minor": 5
}
