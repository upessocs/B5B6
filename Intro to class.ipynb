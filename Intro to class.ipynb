{
 "cells": [
  {
   "cell_type": "code",
   "execution_count": 3,
   "id": "49524547-0397-4fc7-920f-073a286682cc",
   "metadata": {},
   "outputs": [],
   "source": [
    "class Dog:\n",
    "\n",
    "    # Class attribute (shared by all instances)\n",
    "    species = \"Canis familiaris\"\n",
    "    \n",
    "    # Constructor (initializer)\n",
    "    def __init__(self, name, age):\n",
    "        # Instance attributes (unique to each instance)\n",
    "        self.name = name\n",
    "        self.age = age\n",
    "    \n",
    "    # Instance method\n",
    "    def bark(self):\n",
    "        return f\"{self.name} says woof!\"\n",
    "    \n",
    "    # Another instance method\n",
    "    def get_age(self):\n",
    "        return f\"{self.name} is {self.age} years old.\"\n"
   ]
  },
  {
   "cell_type": "code",
   "execution_count": 5,
   "id": "fc13952b-3157-4953-b229-743c43bfdb07",
   "metadata": {},
   "outputs": [],
   "source": [
    "# Creating instances (objects) of the Dog print(dog1.bark())         # Buddy says woof!\n",
    "dog1 = Dog(\"Buddy\", 3)\n",
    "dog2 = Dog(\"Charlie\", 5)#Accessing attributes and methods\n",
    "\n"
   ]
  },
  {
   "cell_type": "code",
   "execution_count": 9,
   "id": "a78172b6-181f-4804-b112-42f5b2fbdc34",
   "metadata": {},
   "outputs": [
    {
     "data": {
      "text/plain": [
       "'Charlie is 5 years old.'"
      ]
     },
     "execution_count": 9,
     "metadata": {},
     "output_type": "execute_result"
    }
   ],
   "source": [
    "dog1.bark()\n",
    "dog2.get_age()"
   ]
  },
  {
   "cell_type": "code",
   "execution_count": null,
   "id": "d2e64706-579b-4b2b-b6a0-71f278a76e95",
   "metadata": {},
   "outputs": [],
   "source": [
    "print(dog1.bark())         # Buddy says woof!\n",
    "print(dog2.get_age())      # Charlie is 5 years old.\n",
    "print(dog1.species)        # Canis familiaris\n"
   ]
  }
 ],
 "metadata": {
  "kernelspec": {
   "display_name": "Python 3 (ipykernel)",
   "language": "python",
   "name": "python3"
  },
  "language_info": {
   "codemirror_mode": {
    "name": "ipython",
    "version": 3
   },
   "file_extension": ".py",
   "mimetype": "text/x-python",
   "name": "python",
   "nbconvert_exporter": "python",
   "pygments_lexer": "ipython3",
   "version": "3.10.12"
  }
 },
 "nbformat": 4,
 "nbformat_minor": 5
}
