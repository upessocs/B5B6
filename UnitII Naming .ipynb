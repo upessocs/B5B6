{
 "cells": [
  {
   "cell_type": "markdown",
   "id": "7666f623-7293-483e-bcd1-aaadee6e3b27",
   "metadata": {},
   "source": [
    "# namiming convention\n",
    "# collections"
   ]
  },
  {
   "cell_type": "code",
   "execution_count": 3,
   "id": "e171ecb4-068d-453f-baef-c485cc5f4e93",
   "metadata": {},
   "outputs": [
    {
     "data": {
      "text/plain": [
       "([1, 2, 3, 4], 140437915862592, list)"
      ]
     },
     "execution_count": 3,
     "metadata": {},
     "output_type": "execute_result"
    }
   ],
   "source": [
    "list1  = [ 1, 2, 3, 4 ]\n",
    "list1, id(list1), type(list1)\n"
   ]
  },
  {
   "cell_type": "code",
   "execution_count": 4,
   "id": "0556206e-e030-49da-8c10-5ff35afd1bf6",
   "metadata": {},
   "outputs": [
    {
     "data": {
      "text/plain": [
       "([1, 2, 3, 4, 10], 140437915862592, list)"
      ]
     },
     "execution_count": 4,
     "metadata": {},
     "output_type": "execute_result"
    }
   ],
   "source": [
    "list1.append(10)\n",
    "list1, id(list1), type(list1)"
   ]
  },
  {
   "cell_type": "code",
   "execution_count": 5,
   "id": "2876b434-78bb-4cd1-9dd5-95eaeb11c5a8",
   "metadata": {},
   "outputs": [
    {
     "data": {
      "text/plain": [
       "([2, 3, 4, 10], 140437915862592, list)"
      ]
     },
     "execution_count": 5,
     "metadata": {},
     "output_type": "execute_result"
    }
   ],
   "source": [
    "list1.remove(1)\n",
    "list1, id(list1), type(list1)"
   ]
  },
  {
   "cell_type": "code",
   "execution_count": 2,
   "id": "cecb4a12-1c99-4d25-b276-5e997a9fa066",
   "metadata": {},
   "outputs": [
    {
     "name": "stdout",
     "output_type": "stream",
     "text": [
      "Help on list object:\n",
      "\n",
      "class list(object)\n",
      " |  list(iterable=(), /)\n",
      " |  \n",
      " |  Built-in mutable sequence.\n",
      " |  \n",
      " |  If no argument is given, the constructor creates a new empty list.\n",
      " |  The argument must be an iterable if specified.\n",
      " |  \n",
      " |  Methods defined here:\n",
      " |  \n",
      " |  __add__(self, value, /)\n",
      " |      Return self+value.\n",
      " |  \n",
      " |  __contains__(self, key, /)\n",
      " |      Return key in self.\n",
      " |  \n",
      " |  __delitem__(self, key, /)\n",
      " |      Delete self[key].\n",
      " |  \n",
      " |  __eq__(self, value, /)\n",
      " |      Return self==value.\n",
      " |  \n",
      " |  __ge__(self, value, /)\n",
      " |      Return self>=value.\n",
      " |  \n",
      " |  __getattribute__(self, name, /)\n",
      " |      Return getattr(self, name).\n",
      " |  \n",
      " |  __getitem__(...)\n",
      " |      x.__getitem__(y) <==> x[y]\n",
      " |  \n",
      " |  __gt__(self, value, /)\n",
      " |      Return self>value.\n",
      " |  \n",
      " |  __iadd__(self, value, /)\n",
      " |      Implement self+=value.\n",
      " |  \n",
      " |  __imul__(self, value, /)\n",
      " |      Implement self*=value.\n",
      " |  \n",
      " |  __init__(self, /, *args, **kwargs)\n",
      " |      Initialize self.  See help(type(self)) for accurate signature.\n",
      " |  \n",
      " |  __iter__(self, /)\n",
      " |      Implement iter(self).\n",
      " |  \n",
      " |  __le__(self, value, /)\n",
      " |      Return self<=value.\n",
      " |  \n",
      " |  __len__(self, /)\n",
      " |      Return len(self).\n",
      " |  \n",
      " |  __lt__(self, value, /)\n",
      " |      Return self<value.\n",
      " |  \n",
      " |  __mul__(self, value, /)\n",
      " |      Return self*value.\n",
      " |  \n",
      " |  __ne__(self, value, /)\n",
      " |      Return self!=value.\n",
      " |  \n",
      " |  __repr__(self, /)\n",
      " |      Return repr(self).\n",
      " |  \n",
      " |  __reversed__(self, /)\n",
      " |      Return a reverse iterator over the list.\n",
      " |  \n",
      " |  __rmul__(self, value, /)\n",
      " |      Return value*self.\n",
      " |  \n",
      " |  __setitem__(self, key, value, /)\n",
      " |      Set self[key] to value.\n",
      " |  \n",
      " |  __sizeof__(self, /)\n",
      " |      Return the size of the list in memory, in bytes.\n",
      " |  \n",
      " |  append(self, object, /)\n",
      " |      Append object to the end of the list.\n",
      " |  \n",
      " |  clear(self, /)\n",
      " |      Remove all items from list.\n",
      " |  \n",
      " |  copy(self, /)\n",
      " |      Return a shallow copy of the list.\n",
      " |  \n",
      " |  count(self, value, /)\n",
      " |      Return number of occurrences of value.\n",
      " |  \n",
      " |  extend(self, iterable, /)\n",
      " |      Extend list by appending elements from the iterable.\n",
      " |  \n",
      " |  index(self, value, start=0, stop=9223372036854775807, /)\n",
      " |      Return first index of value.\n",
      " |      \n",
      " |      Raises ValueError if the value is not present.\n",
      " |  \n",
      " |  insert(self, index, object, /)\n",
      " |      Insert object before index.\n",
      " |  \n",
      " |  pop(self, index=-1, /)\n",
      " |      Remove and return item at index (default last).\n",
      " |      \n",
      " |      Raises IndexError if list is empty or index is out of range.\n",
      " |  \n",
      " |  remove(self, value, /)\n",
      " |      Remove first occurrence of value.\n",
      " |      \n",
      " |      Raises ValueError if the value is not present.\n",
      " |  \n",
      " |  reverse(self, /)\n",
      " |      Reverse *IN PLACE*.\n",
      " |  \n",
      " |  sort(self, /, *, key=None, reverse=False)\n",
      " |      Sort the list in ascending order and return None.\n",
      " |      \n",
      " |      The sort is in-place (i.e. the list itself is modified) and stable (i.e. the\n",
      " |      order of two equal elements is maintained).\n",
      " |      \n",
      " |      If a key function is given, apply it once to each list item and sort them,\n",
      " |      ascending or descending, according to their function values.\n",
      " |      \n",
      " |      The reverse flag can be set to sort in descending order.\n",
      " |  \n",
      " |  ----------------------------------------------------------------------\n",
      " |  Class methods defined here:\n",
      " |  \n",
      " |  __class_getitem__(...) from builtins.type\n",
      " |      See PEP 585\n",
      " |  \n",
      " |  ----------------------------------------------------------------------\n",
      " |  Static methods defined here:\n",
      " |  \n",
      " |  __new__(*args, **kwargs) from builtins.type\n",
      " |      Create and return a new object.  See help(type) for accurate signature.\n",
      " |  \n",
      " |  ----------------------------------------------------------------------\n",
      " |  Data and other attributes defined here:\n",
      " |  \n",
      " |  __hash__ = None\n",
      "\n"
     ]
    }
   ],
   "source": [
    "help(list1)"
   ]
  },
  {
   "cell_type": "code",
   "execution_count": 10,
   "id": "cc417583-734b-4cd3-92ed-c3684a103041",
   "metadata": {},
   "outputs": [],
   "source": [
    "tuple1 = (1 , 2 , 3)"
   ]
  },
  {
   "cell_type": "code",
   "execution_count": 7,
   "id": "73c8e3ce-0b11-4113-85e1-d5ea97d0c0e3",
   "metadata": {},
   "outputs": [
    {
     "data": {
      "text/plain": [
       "((1, 2, 3), 140437915812608)"
      ]
     },
     "execution_count": 7,
     "metadata": {},
     "output_type": "execute_result"
    }
   ],
   "source": [
    "tuple1, id(tuple1)"
   ]
  },
  {
   "cell_type": "code",
   "execution_count": 22,
   "id": "f474919b-0243-429f-9d9f-2b2326cbd971",
   "metadata": {},
   "outputs": [],
   "source": [
    "# help(tuple)"
   ]
  },
  {
   "cell_type": "code",
   "execution_count": 11,
   "id": "f26890df-9b34-4472-83cb-30b9b78e4089",
   "metadata": {},
   "outputs": [
    {
     "data": {
      "text/plain": [
       "2"
      ]
     },
     "execution_count": 11,
     "metadata": {},
     "output_type": "execute_result"
    }
   ],
   "source": [
    "tuple1[1]"
   ]
  },
  {
   "cell_type": "code",
   "execution_count": 19,
   "id": "198a56f5-6535-4bca-b5c6-1e4c2f57ad7c",
   "metadata": {},
   "outputs": [
    {
     "name": "stdout",
     "output_type": "stream",
     "text": [
      "H\n",
      "i\n",
      " \n",
      "p\n",
      "y\n",
      "t\n",
      "h\n",
      "o\n",
      "n\n"
     ]
    }
   ],
   "source": [
    "string1= \"Hi python\"\n",
    "lenstr = len(string1)\n",
    "# print(lenstr)\n",
    "string1[0:9]\n",
    "\n",
    "for i in range(0, len(string1)):\n",
    "    print(string1[i])"
   ]
  },
  {
   "cell_type": "code",
   "execution_count": 21,
   "id": "93c0a67a-01da-4a6f-9b55-142eedfb73d0",
   "metadata": {},
   "outputs": [
    {
     "name": "stdout",
     "output_type": "stream",
     "text": [
      "{'u', 'a', 'o', 'e', 'i'}\n"
     ]
    }
   ],
   "source": [
    "#sets\n",
    "\n",
    "vowels= {\"a\", \"e\", \"i\", \"o\", \"u\" , \"a\", \"i\"}\n",
    "print(vowels)"
   ]
  },
  {
   "cell_type": "code",
   "execution_count": 30,
   "id": "87696740-bdd7-4978-8af8-c0397e377b8e",
   "metadata": {},
   "outputs": [
    {
     "name": "stdout",
     "output_type": "stream",
     "text": [
      "Prateek\n"
     ]
    }
   ],
   "source": [
    "#dictionary similar to JSON\n",
    "\n",
    "Dict1 = {\n",
    "    \"Name\" : \"Prateek\",\n",
    "    \"key1\": \"val1\",\n",
    "    \"key1\":\"val2\",\n",
    "    \n",
    "    \"fName\" : \"Prateek\",\n",
    "    \"key3\":\"val3\",\n",
    "    \"key4\":\"val4\"\n",
    "}\n",
    "\n",
    "print(Dict1[\"fName\"])"
   ]
  },
  {
   "cell_type": "code",
   "execution_count": 34,
   "id": "e96e56c8-1204-4650-b9a6-7c45ae015412",
   "metadata": {},
   "outputs": [
    {
     "name": "stdout",
     "output_type": "stream",
     "text": [
      "key is Namevalue is Prateek\n",
      "key is key1value is val2\n",
      "key is fNamevalue is Prateek\n",
      "key is key3value is val3\n",
      "key is key4value is val4\n"
     ]
    }
   ],
   "source": [
    "for key, val in Dict1.items():\n",
    "    # print(f\"key is {key} val is {val}\") # fstring or format_method\n",
    "    print(\"key is \" + key + \"value is \" + val) \n",
    "    "
   ]
  },
  {
   "cell_type": "code",
   "execution_count": 48,
   "id": "eb866edd-b073-4508-8360-51cbbb69f8fc",
   "metadata": {},
   "outputs": [
    {
     "name": "stdout",
     "output_type": "stream",
     "text": [
      "key is { } value is { }\n",
      "key is Name value is Raj\n"
     ]
    }
   ],
   "source": [
    "key = \"Name\"\n",
    "val = \"Raj\"\n",
    "\n",
    "fstr = \"key is { } value is { }\"\n",
    "print(fstr)\n",
    "\n",
    "fstr2 = f\"key is { key } value is { val }\"\n",
    "print(fstr2)"
   ]
  },
  {
   "cell_type": "code",
   "execution_count": 50,
   "id": "6773835e-0630-4380-9ce6-a8bc6da97f0d",
   "metadata": {},
   "outputs": [
    {
     "data": {
      "text/plain": [
       "([[1, 2], [3, 4]], 2)"
      ]
     },
     "execution_count": 50,
     "metadata": {},
     "output_type": "execute_result"
    }
   ],
   "source": [
    "Row1 = [ 1, 2 ]\n",
    "Row2 = [ 3, 4 ]\n",
    "matrix = [ Row1, Row2 ]\n",
    "matrix, len(matrix)"
   ]
  },
  {
   "cell_type": "code",
   "execution_count": 54,
   "id": "b426cc19-adbc-462b-a0b8-4e00c1ed8816",
   "metadata": {},
   "outputs": [],
   "source": [
    "matrix[0] = 10\n"
   ]
  },
  {
   "cell_type": "code",
   "execution_count": 55,
   "id": "def83e18-459c-4649-8a62-d621eeded281",
   "metadata": {},
   "outputs": [
    {
     "data": {
      "text/plain": [
       "[10, [3, 4]]"
      ]
     },
     "execution_count": 55,
     "metadata": {},
     "output_type": "execute_result"
    }
   ],
   "source": [
    "matrix"
   ]
  },
  {
   "cell_type": "code",
   "execution_count": 59,
   "id": "61887a86-7ee3-4dc7-8638-62bea7167189",
   "metadata": {},
   "outputs": [
    {
     "name": "stdout",
     "output_type": "stream",
     "text": [
      "140437414400256 [1, 2, 3, 4, 11, 2, 3, 4, 0, [3, 4]]\n",
      "140437414400256 [1, 2, 3, 4, 11, 2, 3, 4, 0, [3, 4]]\n",
      "140437414400256 [0, 2, 3, 4, 11, 2, 3, 4, 0, [3, 4]]\n",
      "140437414400256 [0, 2, 3, 4, 11, 2, 3, 4, 0, [3, 4]]\n",
      "140437414400256 [0, 2, 3, 4, 11, 2, 3, 4, 0, [3, 4, 100]]\n",
      "140437414400256 [0, 2, 3, 4, 11, 2, 3, 4, 0, [3, 4, 100]]\n"
     ]
    }
   ],
   "source": [
    "listA = [1, 2, 3, 4, 11, 2, 3, 4, 0, [3, 4]]\n",
    "listB = listA # creating a copy of listA\n",
    "\n",
    "print(id(listA),listA)\n",
    "print(id(listB),listB)\n",
    "\n",
    "# shallow\n",
    "listB[0] = 0\n",
    "\n",
    "print(id(listA),listA)\n",
    "print(id(listB),listB)\n",
    "\n",
    "# deep\n",
    "listB[len(listB)-1].append(100)\n",
    "\n",
    "print(id(listA),listA)\n",
    "print(id(listB),listB)\n"
   ]
  },
  {
   "cell_type": "code",
   "execution_count": null,
   "id": "704535aa-292a-4ca1-ad45-a72b13b50463",
   "metadata": {},
   "outputs": [],
   "source": []
  }
 ],
 "metadata": {
  "kernelspec": {
   "display_name": "Python 3 (ipykernel)",
   "language": "python",
   "name": "python3"
  },
  "language_info": {
   "codemirror_mode": {
    "name": "ipython",
    "version": 3
   },
   "file_extension": ".py",
   "mimetype": "text/x-python",
   "name": "python",
   "nbconvert_exporter": "python",
   "pygments_lexer": "ipython3",
   "version": "3.11.8"
  }
 },
 "nbformat": 4,
 "nbformat_minor": 5
}
