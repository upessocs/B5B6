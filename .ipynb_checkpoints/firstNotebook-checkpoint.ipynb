{
 "cells": [
  {
   "cell_type": "code",
   "execution_count": 1,
   "id": "dd997d66-00c8-4db7-aaf2-926af904e41a",
   "metadata": {},
   "outputs": [
    {
     "name": "stdout",
     "output_type": "stream",
     "text": [
      "1\n"
     ]
    }
   ],
   "source": [
    "a=1\n",
    "print(a)"
   ]
  },
  {
   "cell_type": "code",
   "execution_count": 2,
   "id": "bf46b3d0-cee8-4845-8017-63a100f783ea",
   "metadata": {
    "jupyter": {
     "source_hidden": true
    }
   },
   "outputs": [
    {
     "name": "stdout",
     "output_type": "stream",
     "text": [
      "1.1\n",
      "2.1\n"
     ]
    }
   ],
   "source": [
    "b=1.1\n",
    "print(b)\n",
    "print(a+b)"
   ]
  },
  {
   "cell_type": "code",
   "execution_count": null,
   "id": "d1a64ecd-7d6f-44ae-b186-694ab73bb02e",
   "metadata": {},
   "outputs": [],
   "source": []
  },
  {
   "cell_type": "code",
   "execution_count": 3,
   "id": "2f8f40ed-c18e-454a-9087-b1ce98569823",
   "metadata": {},
   "outputs": [
    {
     "data": {
      "text/plain": [
       "int"
      ]
     },
     "execution_count": 3,
     "metadata": {},
     "output_type": "execute_result"
    }
   ],
   "source": [
    "type(a)"
   ]
  },
  {
   "cell_type": "code",
   "execution_count": 7,
   "id": "0f2e8802-ef44-44be-84bf-93a7c9b1e9e3",
   "metadata": {},
   "outputs": [
    {
     "data": {
      "text/plain": [
       "str"
      ]
     },
     "execution_count": 7,
     "metadata": {},
     "output_type": "execute_result"
    }
   ],
   "source": [
    "a=\"1.1\"\n",
    "\n",
    "type(a)"
   ]
  },
  {
   "cell_type": "code",
   "execution_count": 12,
   "id": "04a80465-c1bb-48a6-b3e5-8d3e03609038",
   "metadata": {},
   "outputs": [
    {
     "data": {
      "text/plain": [
       "140568809949360"
      ]
     },
     "execution_count": 12,
     "metadata": {},
     "output_type": "execute_result"
    }
   ],
   "source": [
    "a=2.1\n",
    "id(a)"
   ]
  },
  {
   "cell_type": "code",
   "execution_count": 13,
   "id": "df968dec-dc5c-456d-998c-bf46f601c038",
   "metadata": {},
   "outputs": [
    {
     "data": {
      "text/plain": [
       "140568809959472"
      ]
     },
     "execution_count": 13,
     "metadata": {},
     "output_type": "execute_result"
    }
   ],
   "source": [
    "a=3.3\n",
    "id(a)"
   ]
  },
  {
   "cell_type": "code",
   "execution_count": 17,
   "id": "68f15695-e56b-4b91-8938-ef3be8744bf8",
   "metadata": {},
   "outputs": [
    {
     "name": "stdout",
     "output_type": "stream",
     "text": [
      "[1, 2, 3]\n"
     ]
    },
    {
     "data": {
      "text/plain": [
       "140568783493440"
      ]
     },
     "execution_count": 17,
     "metadata": {},
     "output_type": "execute_result"
    }
   ],
   "source": [
    "c=[1,2,3]\n",
    "print(c)\n",
    "id(c)"
   ]
  },
  {
   "cell_type": "code",
   "execution_count": 18,
   "id": "61d3bfa7-5e6a-4f76-b8db-b22273a82fc5",
   "metadata": {},
   "outputs": [
    {
     "name": "stdout",
     "output_type": "stream",
     "text": [
      "[1, 2, 3, 5]\n"
     ]
    },
    {
     "data": {
      "text/plain": [
       "140568783493440"
      ]
     },
     "execution_count": 18,
     "metadata": {},
     "output_type": "execute_result"
    }
   ],
   "source": [
    "c.append(5)\n",
    "print(c)\n",
    "id(c)"
   ]
  },
  {
   "cell_type": "code",
   "execution_count": 2,
   "id": "fc568688-617d-49d1-9dde-3f834234e7d8",
   "metadata": {},
   "outputs": [
    {
     "name": "stdin",
     "output_type": "stream",
     "text": [
      "Enter Your Name Prateek\n"
     ]
    },
    {
     "name": "stdout",
     "output_type": "stream",
     "text": [
      "Hi Prateek\n"
     ]
    }
   ],
   "source": [
    "name=input(\"Enter Your Name\")\n",
    "print(f\"Hi {name}\")"
   ]
  },
  {
   "cell_type": "markdown",
   "id": "24e0bead-ec05-4e05-a875-d54cbc6e698c",
   "metadata": {},
   "source": [
    "# If block"
   ]
  },
  {
   "cell_type": "code",
   "execution_count": 1,
   "id": "3c48b7c9-2e1f-42e1-8576-6f11e6d77943",
   "metadata": {},
   "outputs": [
    {
     "data": {
      "text/plain": [
       "True"
      ]
     },
     "execution_count": 1,
     "metadata": {},
     "output_type": "execute_result"
    }
   ],
   "source": [
    "1 < 2"
   ]
  },
  {
   "cell_type": "code",
   "execution_count": 2,
   "id": "99908f73-55ef-4d0b-ab92-36e4b2c23e38",
   "metadata": {},
   "outputs": [
    {
     "data": {
      "text/plain": [
       "True"
      ]
     },
     "execution_count": 2,
     "metadata": {},
     "output_type": "execute_result"
    }
   ],
   "source": [
    "1 == 1"
   ]
  },
  {
   "cell_type": "code",
   "execution_count": 3,
   "id": "6c67e423-f9f0-428f-9aea-79e91f0b2022",
   "metadata": {},
   "outputs": [
    {
     "data": {
      "text/plain": [
       "False"
      ]
     },
     "execution_count": 3,
     "metadata": {},
     "output_type": "execute_result"
    }
   ],
   "source": [
    "1 != 1"
   ]
  },
  {
   "cell_type": "code",
   "execution_count": 5,
   "id": "74655703-747a-4df4-a48f-f7b26369bb8f",
   "metadata": {},
   "outputs": [],
   "source": [
    "a = 10\n",
    "b = 1\n",
    "c = 5"
   ]
  },
  {
   "cell_type": "code",
   "execution_count": 12,
   "id": "9f56db79-0693-4cb3-8391-a9ded9223c0e",
   "metadata": {},
   "outputs": [
    {
     "name": "stdout",
     "output_type": "stream",
     "text": [
      "a > b\n",
      "this condition is true\n",
      "a != b\n",
      "this condition is true\n"
     ]
    }
   ],
   "source": [
    "if a > b:\n",
    "    print(\"a > b\")\n",
    "    \n",
    "    \n",
    "    \n",
    "    \n",
    "    print(\"this condition is true\")  \n",
    "\n",
    "\n",
    "elif a==b:\n",
    "    pass\n",
    "\n",
    "else: # a< b\n",
    "    pass\n",
    "    "
   ]
  },
  {
   "cell_type": "code",
   "execution_count": 13,
   "id": "9945a5d8-d979-46f5-9d2c-140218ffad45",
   "metadata": {},
   "outputs": [],
   "source": [
    "# and or not"
   ]
  },
  {
   "cell_type": "code",
   "execution_count": null,
   "id": "2874eb2f-efee-4879-9e50-b26d28b5e5f7",
   "metadata": {},
   "outputs": [],
   "source": [
    "if a < b and a < c:\n",
    "    pass\n",
    "\n",
    "# nested if\n",
    "if a < b:\n",
    "    if a < c:\n",
    "        pass\n",
    "    else:\n",
    "        print(\"fails\")"
   ]
  },
  {
   "cell_type": "code",
   "execution_count": 14,
   "id": "0cc2e25b-c0bb-4df8-ae0c-c9f1d1ca55cc",
   "metadata": {},
   "outputs": [
    {
     "name": "stdout",
     "output_type": "stream",
     "text": [
      "value is 1\n",
      "Id is 140014153977992\n",
      "Type is <class 'int'>\n"
     ]
    }
   ],
   "source": [
    "a=1\n",
    "\n",
    "print(f\"value is { a }\")\n",
    "print(f\"Id is { id(a) }\")\n",
    "print(f\"Type is { type(a) }\")\n"
   ]
  },
  {
   "cell_type": "code",
   "execution_count": 15,
   "id": "6b94a3a7-ade4-4f90-b566-7c39f7fa97e6",
   "metadata": {},
   "outputs": [],
   "source": [
    "# function\n",
    "\"\"\"\n",
    "def is short for defition\n",
    "\"\"\"\n",
    "\n",
    "# def functionname(input,arguments):\n",
    "\n",
    "def myprint(inputvar):\n",
    "    a = inputvar\n",
    "    print(f\"value is { a }\")\n",
    "    print(f\"Id is { id(a) }\")\n",
    "    print(f\"Type is { type(a) }\")\n"
   ]
  },
  {
   "cell_type": "code",
   "execution_count": 16,
   "id": "7cea7841-5fdc-4aee-9036-b403e0721903",
   "metadata": {},
   "outputs": [
    {
     "name": "stdout",
     "output_type": "stream",
     "text": [
      "value is 1\n",
      "Id is 140014153977992\n",
      "Type is <class 'int'>\n"
     ]
    }
   ],
   "source": [
    "myprint(1)"
   ]
  },
  {
   "cell_type": "code",
   "execution_count": 17,
   "id": "60c9b215-5f4e-42f5-8fc3-098a653ecf63",
   "metadata": {},
   "outputs": [
    {
     "name": "stdout",
     "output_type": "stream",
     "text": [
      "value is 1\n",
      "Id is 140014153977992\n",
      "Type is <class 'int'>\n",
      "value is 2\n",
      "Id is 140014153978024\n",
      "Type is <class 'int'>\n",
      "value is 3\n",
      "Id is 140014153978056\n",
      "Type is <class 'int'>\n"
     ]
    }
   ],
   "source": [
    "a=1\n",
    "b=2\n",
    "c=3\n",
    "myprint(a)\n",
    "myprint(b)\n",
    "myprint(c)"
   ]
  },
  {
   "cell_type": "code",
   "execution_count": 26,
   "id": "e9f1e24e-f96d-4ada-a040-1f6c90e98f17",
   "metadata": {},
   "outputs": [
    {
     "name": "stdin",
     "output_type": "stream",
     "text": [
      "enter mob 8.8\n"
     ]
    }
   ],
   "source": [
    "d = float(input(\"enter mob\"))"
   ]
  },
  {
   "cell_type": "code",
   "execution_count": 27,
   "id": "31370d0c-1271-4f60-bb6a-91435785e1df",
   "metadata": {},
   "outputs": [
    {
     "data": {
      "text/plain": [
       "8.8"
      ]
     },
     "execution_count": 27,
     "metadata": {},
     "output_type": "execute_result"
    }
   ],
   "source": [
    "d"
   ]
  },
  {
   "cell_type": "code",
   "execution_count": 29,
   "id": "ee5780f7-2a71-450b-841d-b20bae384e74",
   "metadata": {},
   "outputs": [
    {
     "name": "stdin",
     "output_type": "stream",
     "text": [
      "enter first name PrAteeK\n",
      "enter last name rAj\n"
     ]
    },
    {
     "name": "stdout",
     "output_type": "stream",
     "text": [
      " Hi PRATEEK RAJ\n"
     ]
    }
   ],
   "source": [
    "fname = input(\"enter first name\")\n",
    "lname = input(\"enter last name\")\n",
    "print(f\" Hi { fname.upper() } { lname.upper() }\")"
   ]
  },
  {
   "cell_type": "code",
   "execution_count": null,
   "id": "f63363de-2c63-47dd-8073-b94e4d309899",
   "metadata": {},
   "outputs": [],
   "source": [
    "a = 1\n",
    "b = 2\n",
    "while a < b:\n",
    "    print(\"a is still less than b\")\n",
    "    a = a + 1"
   ]
  }
 ],
 "metadata": {
  "kernelspec": {
   "display_name": "Python 3 (ipykernel)",
   "language": "python",
   "name": "python3"
  },
  "language_info": {
   "codemirror_mode": {
    "name": "ipython",
    "version": 3
   },
   "file_extension": ".py",
   "mimetype": "text/x-python",
   "name": "python",
   "nbconvert_exporter": "python",
   "pygments_lexer": "ipython3",
   "version": "3.11.8"
  }
 },
 "nbformat": 4,
 "nbformat_minor": 5
}
