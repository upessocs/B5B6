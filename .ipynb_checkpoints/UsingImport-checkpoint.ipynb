{
 "cells": [
  {
   "cell_type": "code",
   "execution_count": 1,
   "id": "1ce6d011-732a-4ee7-b05a-9d40c630487a",
   "metadata": {},
   "outputs": [],
   "source": [
    "# # import mymodule\n",
    "# # import mymodule2\n",
    "\n",
    "# # from mymodule import PI,myadd\n",
    "# # from mymodule2 import PI\n",
    "\n",
    "# # import mymodule as m1\n",
    "# # import mymodule2 as m2\n",
    "\n",
    "# from mymodule import PI as pi1\n",
    "# from mymodule2 import PI as pi2\n",
    "\n",
    "# # m1.PI,m2.PI\n",
    "# pi1, pi2"
   ]
  },
  {
   "cell_type": "code",
   "execution_count": 2,
   "id": "59b05221-d070-4e5a-be3e-7e2d70c29c36",
   "metadata": {},
   "outputs": [],
   "source": [
    "# mymodule.PI"
   ]
  },
  {
   "cell_type": "code",
   "execution_count": 3,
   "id": "f154f717-f6a5-46b0-ae9e-6eafbf825c91",
   "metadata": {},
   "outputs": [],
   "source": [
    "# mymodule2.PI"
   ]
  },
  {
   "cell_type": "code",
   "execution_count": 5,
   "id": "7e96679c-d6d6-4c73-9070-82d9e6d9f1e5",
   "metadata": {},
   "outputs": [
    {
     "name": "stdout",
     "output_type": "stream",
     "text": [
      "imported as module\n"
     ]
    }
   ],
   "source": [
    "import mymodule\n",
    "\n",
    "\n",
    "\n",
    "\n",
    "\n",
    "\n",
    "\n",
    "if __name__ == \"__main__\":\n",
    "    step1() \n",
    "    step2()\n",
    "    "
   ]
  },
  {
   "cell_type": "code",
   "execution_count": null,
   "id": "9ac05f87-7b0e-459b-9e44-3bf327a0d897",
   "metadata": {},
   "outputs": [],
   "source": []
  }
 ],
 "metadata": {
  "kernelspec": {
   "display_name": "Python 3 (ipykernel)",
   "language": "python",
   "name": "python3"
  },
  "language_info": {
   "codemirror_mode": {
    "name": "ipython",
    "version": 3
   },
   "file_extension": ".py",
   "mimetype": "text/x-python",
   "name": "python",
   "nbconvert_exporter": "python",
   "pygments_lexer": "ipython3",
   "version": "3.11.8"
  }
 },
 "nbformat": 4,
 "nbformat_minor": 5
}
